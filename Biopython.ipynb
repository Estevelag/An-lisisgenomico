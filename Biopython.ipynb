{
 "cells": [
  {
   "cell_type": "markdown",
   "metadata": {},
   "source": [
    "#Programa para el cálculo de uso codónico\n",
    "\n",
    "Autor: Esteban Velásquez\n",
    "\n",
    "tiene el objetivo de calcular la frecuencia\n",
    "del uso de los codones de un genoma (por ejemplo: cpDNA, mtDNA, Genoma\n",
    "bacteriano, etc), se requiere desarrollar un programa que reciba de entrada un\n",
    "archivo Genbank (.gb, ej: NC_016736.1) y como salida genera una tabla (.tsv) con el usage codon bias.\n",
    "Es necesario seleccionar entre los sigueintes códigos genéticos:\n",
    "\n",
    "1. The Standard Code\n",
    "2. The Vertebrate Mitochondrial Code\n",
    "3. The Yeast Mitochondrial Code\n",
    "4. The Mold, Protozoan, and Coelenterate Mitochondrial Code and the Mycoplasma/Spiroplasma Code\n",
    "5. The Invertebrate Mitochondrial Code\n",
    "6. The Ciliate, Dasycladacean and Hexamita Nuclear Code\n",
    "9. The Echinoderm and Flatworm Mitochondrial Code\n",
    "10. The Euplotid Nuclear Code\n",
    "11. The Bacterial, Archaeal and Plant Plastid Code\n",
    "12. The Alternative Yeast Nuclear Code\n",
    "13. The Ascidian Mitochondrial Code\n",
    "14. The Alternative Flatworm Mitochondrial Code\n",
    "16. Chlorophycean Mitochondrial Code\n",
    "21. Trematode Mitochondrial Code\n",
    "22. Scenedesmus obliquus Mitochondrial Code\n",
    "23. Thraustochytrium Mitochondrial Code\n",
    "24. Pterobranchia Mitochondrial Code\n",
    "25. Candidate Division SR1 and Gracilibacteria Code\n",
    "26. Pachysolen tannophilus Nuclear Code\n",
    "27. Karyorelict Nuclear Code\n",
    "28. Condylostoma Nuclear Code\n",
    "29. Mesodinium Nuclear Code\n",
    "30. Peritrich Nuclear Code\n",
    "31. Blastocrithidia Nuclear Code\n",
    "33. Cephalodiscidae Mitochondrial UAA-Tyr Code\n",
    "\n"
   ]
  },
  {
   "cell_type": "markdown",
   "metadata": {},
   "source": [
    "Funciones secundarias necesarias para el main:\n"
   ]
  },
  {
   "cell_type": "code",
   "execution_count": 33,
   "metadata": {},
   "outputs": [],
   "source": [
    "def DNA(correo,ID):#función que me obtiene el codigo genetico de NCBI\n",
    "    import Bio \n",
    "    from Bio import Entrez , SeqIO\n",
    "    from Bio.Seq import Seq\n",
    "    Entrez.email = correo\n",
    "    handle = Entrez.efetch(db = \"nucleotide\", id = ID, rettype = \"gb\", retmode = \"text\") \n",
    "    genomas=SeqIO.read(handle,\"genbank\")\n",
    "    return genomas"
   ]
  },
  {
   "cell_type": "code",
   "execution_count": 34,
   "metadata": {},
   "outputs": [],
   "source": [
    "def ADNcodificantealt(genoma):#función alternapara sacar ADN codificante pero que no discrimina exones pero si es general y no depende de NCBI\n",
    "    import Bio #primero se inicializa biopython para luego abrir el genoma correspondiente\n",
    "    import numpy as np\n",
    "    from Bio import Entrez , SeqIO\n",
    "    from Bio.Data import CodonTable\n",
    "    Startcod=CodonTable.unambiguous_dna_by_id[gencod].start_codons\n",
    "    Endcod=CodonTable.unambiguous_dna_by_id[gencod].stop_codons\n",
    "    from Bio.Seq import Seq\n",
    "    ADNcodificante=Seq(\"\")\n",
    "    c=0\n",
    "    for i in range(0,len(genoma)-2):\n",
    "        for r in range(0,len(Startcod)):\n",
    "            if ((genoma[i]+genoma[i+1]+genoma[i+2] == Startcod[r])&(c==0)):\n",
    "                b=i\n",
    "                c=1\n",
    "        for v in range(0,len(Endcod)):\n",
    "            if ((genoma[i]+genoma[i+1]+genoma[i+2] == Endcod[v])&(c==1)):\n",
    "                c=0\n",
    "                k=i\n",
    "                string2=(genoma[b:(k+1)])\n",
    "                ADNcodificante=ADNcodificante+string2                    "
   ]
  },
  {
   "cell_type": "code",
   "execution_count": 35,
   "metadata": {},
   "outputs": [],
   "source": [
    "def ADNcodificante(genomas):#función que me saca el ADNcodificante de un NCBI y no de todos lamentablemente\n",
    "    import Bio\n",
    "    from Bio import Entrez , SeqIO\n",
    "    from Bio.Seq import Seq\n",
    "    jct_info=\"\"\n",
    "    for f in genomas.features:\n",
    "        if f.type == 'CDS':\n",
    "            jct_info=jct_info+str(f.location)\n",
    "    import re\n",
    "    jctP = re.compile(\"\\[\\d+\\:\\d+\\]\")   \n",
    "    jcts = jctP.findall(jct_info)\n",
    "    ADNcod=Seq(\"\")\n",
    "    for i in range(len(jcts)):\n",
    "        ini=int(jcts[i].strip(\"[\").strip(\"]\").split(\":\")[0])\n",
    "        fin=int(jcts[i].strip(\"[\").strip(\"]\").split(\":\")[1])\n",
    "        ADNcod=ADNcod+(genomas.seq[ini:fin])\n",
    "    return ADNcod"
   ]
  },
  {
   "cell_type": "code",
   "execution_count": 36,
   "metadata": {},
   "outputs": [],
   "source": [
    "def transcribir(ADNcodificante):\n",
    "    mRNAcodificante=ADNcodificante.transcribe()\n",
    "    return mRNAcodificante"
   ]
  },
  {
   "cell_type": "code",
   "execution_count": 37,
   "metadata": {},
   "outputs": [],
   "source": [
    "def codones(mARNcod):\n",
    "    setcodones=set()\n",
    "    leng=len(mARNcod)\n",
    "    for i in range(leng-2):\n",
    "        a=mARNcod[i]\n",
    "        b=mARNcod[i+1]\n",
    "        c=mARNcod[i+2]\n",
    "        setcodones.add(a+b+c)\n",
    "    return setcodones"
   ]
  },
  {
   "cell_type": "code",
   "execution_count": 48,
   "metadata": {},
   "outputs": [],
   "source": [
    "def listarcod(setcod):\n",
    "    listcod=list(setcod)\n",
    "    return listcod"
   ]
  },
  {
   "cell_type": "code",
   "execution_count": 50,
   "metadata": {},
   "outputs": [],
   "source": [
    "def traducirlista(listcod):\n",
    "    import Bio\n",
    "    from Bio import Entrez , SeqIO\n",
    "    from Bio.Seq import Seq\n",
    "    amino= [0 for x in range (len(listcod))]\n",
    "    for n in range(0,(len(listcod))):\n",
    "        amino[n]=(Seq(listcod[n]).translate(table=gencode)[0])\n",
    "    return amino"
   ]
  },
  {
   "cell_type": "code",
   "execution_count": 40,
   "metadata": {},
   "outputs": [],
   "source": [
    "def contarcodones(mARNcod,listcod):\n",
    "    numcod=[0 for x in range (len(listcod))]\n",
    "    long=len(listcod)\n",
    "    leng=len(mARNcod)\n",
    "    for i in range(0,(leng-2)):\n",
    "        for n in range(0,(long)):\n",
    "            if mARNcod[i]+mARNcod[i+1]+mARNcod[i+2]==listcod[n]:\n",
    "                numcod[n]=numcod[n]+1\n",
    "    return numcod"
   ]
  },
  {
   "cell_type": "code",
   "execution_count": 41,
   "metadata": {},
   "outputs": [],
   "source": [
    "def totporaminoacido (amino,numcod):\n",
    "    totalaminoacido=[0 for x in range(len(amino))]\n",
    "    for i in range (0,(len(amino))):\n",
    "        for j in range (0,(len(amino))):\n",
    "            if amino[i] == amino[j]:\n",
    "                totalaminoacido[i]=totalaminoacido[i]+numcod[j]\n",
    "    return totalaminoacido       "
   ]
  },
  {
   "cell_type": "code",
   "execution_count": 42,
   "metadata": {},
   "outputs": [],
   "source": [
    "def cuantosporaminoacido(amino):\n",
    "    cuantosporaa=[0 for x in range(len(amino))]\n",
    "    for i in range (0,(len(amino))):\n",
    "        for j in range (0,(len(amino))):\n",
    "            if amino[i] == amino[j]:\n",
    "                cuantosporaa[i]=cuantosporaa[i]+1\n",
    "    return cuantosporaa"
   ]
  },
  {
   "cell_type": "code",
   "execution_count": 53,
   "metadata": {},
   "outputs": [],
   "source": [
    "def calcularRSCU(numcod,totalaminoacido,cuantosporaa):\n",
    "    RSCU=[0 for x in range(len(numcod))]\n",
    "    for i in range(0,(len(numcod))):\n",
    "        RSCU[i]=round((numcod[i]/(totalaminoacido[i]/cuantosporaa[i])),3)\n",
    "    return RSCU"
   ]
  },
  {
   "cell_type": "code",
   "execution_count": 55,
   "metadata": {},
   "outputs": [],
   "source": [
    "def calcporcentaje(numcod,totalaminoacido):\n",
    "    porcentaje=[0 for x in range(len(numcod))]\n",
    "    for i in range (0,(len(numcod))):\n",
    "        porcentaje[i]=round(((numcod[i]/totalaminoacido[i])*100),2)\n",
    "    return porcentaje"
   ]
  },
  {
   "cell_type": "code",
   "execution_count": 45,
   "metadata": {},
   "outputs": [],
   "source": [
    "def TRNA(genomas,listcod):#función que saca los TRNA que son codificados en el genoma\n",
    "    import Bio\n",
    "    from Bio import Entrez , SeqIO\n",
    "    from Bio.Seq import Seq\n",
    "    settrna=set()\n",
    "    for i in range(0,len(genomas.features)):\n",
    "        if(\"gene\" in genomas.features[i].qualifiers):\n",
    "            if(genomas.features[i].qualifiers['gene'][0][0]+genomas.features[i].qualifiers['gene'][0][1]+genomas.features[i].qualifiers['gene'][0][2]==\"trn\"):\n",
    "                settrna.add((genomas.features[i].qualifiers['gene'][0]))\n",
    "    genomas.features[i].qualifiers[\"gene\"][0]\n",
    "    listtrna=list(settrna)\n",
    "    trna=[0 for x in range(len(listcod))]\n",
    "    for i in range(0,len(listtrna)):\n",
    "        for j in range(0,len(listcod)):\n",
    "            if (Seq(listtrna[i].split(\"-\")[1]).reverse_complement()==listcod[j]):\n",
    "                trna[j]=listtrna[i]\n",
    "    return trna\n",
    "\n"
   ]
  },
  {
   "cell_type": "code",
   "execution_count": 46,
   "metadata": {},
   "outputs": [],
   "source": [
    "def creartabla(listcod,amino,numcod,RSCU,porcentaje,tRNA):\n",
    "    import pandas as pd\n",
    "    tabla = pd.DataFrame([listcod,amino,numcod,RSCU,porcentaje,tRNA]).T\n",
    "    tabla.columns=['Codon','Amino acid','Number','RSCU','%','tRNA']\n",
    "    tabla.to_csv('tablacodonusage.tsv', sep='\\t', index=False)\n",
    "    return tabla"
   ]
  },
  {
   "cell_type": "markdown",
   "metadata": {},
   "source": [
    "FUNCION PRINCIPAL"
   ]
  },
  {
   "cell_type": "code",
   "execution_count": 56,
   "metadata": {},
   "outputs": [
    {
     "name": "stdout",
     "output_type": "stream",
     "text": [
      "   Codon Amino acid Number   RSCU      %      tRNA\n",
      "0    UAA          *   1859  1.225  40.85         0\n",
      "1    GCG          A    366  0.592  14.79         0\n",
      "2    AAG          K   1537  0.663  33.16         0\n",
      "3    GUA          V   1120  1.216  30.41  trnV-UAC\n",
      "4    AGA          R   1513  1.882  31.36  trnR-UCU\n",
      "..   ...        ...    ...    ...    ...       ...\n",
      "59   GAC          D    601  0.524  26.22  trnD-GUC\n",
      "60   CUG          L    802  0.607  10.12         0\n",
      "61   UUU          F   3347   1.19   59.5         0\n",
      "62   ACA          T   1024  1.188   29.7  trnT-UGU\n",
      "63   ACC          T    911  1.057  26.42  trnT-GGU\n",
      "\n",
      "[64 rows x 6 columns]\n"
     ]
    }
   ],
   "source": [
    "def codonusagebias(ID,correo,gencode):\n",
    "    \"\"\"\n",
    "    MAIN\n",
    "    \"\"\"\n",
    "    genomas=DNA(correo,ID)\n",
    "    ADNcod=ADNcodificante(genomas)\n",
    "    mARNcod=transcribir(ADNcod)\n",
    "    setcod=codones(mARNcod)\n",
    "    listcod=listarcod(setcod)\n",
    "    amino=traducirlista(listcod)\n",
    "    numcod=contarcodones(mARNcod,listcod)\n",
    "    totalaminoacido=totporaminoacido(amino,numcod)\n",
    "    cuantosporaa=cuantosporaminoacido(amino)\n",
    "    RSCU=calcularRSCU(numcod,totalaminoacido,cuantosporaa)\n",
    "    porcentaje=calcporcentaje(numcod,totalaminoacido)\n",
    "    tRNA=TRNA(genomas,listcod)\n",
    "    tabla=creartabla(listcod,amino,numcod,RSCU,porcentaje,tRNA)\n",
    "    return tabla\n",
    "ID=\"NC_016736.1\"\n",
    "correo=\"evelas13@eafit.edu.co\"\n",
    "gencode=1\n",
    "print(codonusagebias(ID,correo,gencode))"
   ]
  }
 ],
 "metadata": {
  "kernelspec": {
   "display_name": "Python 3",
   "language": "python",
   "name": "python3"
  },
  "language_info": {
   "codemirror_mode": {
    "name": "ipython",
    "version": 3
   },
   "file_extension": ".py",
   "mimetype": "text/x-python",
   "name": "python",
   "nbconvert_exporter": "python",
   "pygments_lexer": "ipython3",
   "version": "3.6.9"
  }
 },
 "nbformat": 4,
 "nbformat_minor": 4
}
